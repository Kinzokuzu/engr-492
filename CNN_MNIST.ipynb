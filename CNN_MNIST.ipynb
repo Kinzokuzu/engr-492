{
 "cells": [
  {
   "cell_type": "markdown",
   "id": "7bd82a20-8c14-49a3-8d1c-6a0240994cde",
   "metadata": {},
   "source": [
    "### Convolutional Nueral Network for MNIST"
   ]
  },
  {
   "cell_type": "code",
   "execution_count": 1,
   "id": "093fe101-6c0b-47b9-9004-8c0ba35bba51",
   "metadata": {},
   "outputs": [],
   "source": [
    "import tensorflow as tf"
   ]
  },
  {
   "cell_type": "markdown",
   "id": "d9b8f553-9364-4fce-8e1f-bcec5abbbe7b",
   "metadata": {},
   "source": [
    "Step 1: load data and normalize to (0~1)"
   ]
  },
  {
   "cell_type": "code",
   "execution_count": 2,
   "id": "e2c46569-9d24-4966-931f-70d61e8c62d7",
   "metadata": {},
   "outputs": [],
   "source": [
    "mnist = tf.keras.datasets.mnist\n",
    "(X_train, y_train), (X_test, y_test) = mnist.load_data()"
   ]
  },
  {
   "cell_type": "code",
   "execution_count": 3,
   "id": "4f003558-a480-42d6-9146-43c09b0db6aa",
   "metadata": {},
   "outputs": [],
   "source": [
    "# reshape and normalize data\n",
    "X_train = X_train.reshape((60000, 28, 28, 1))\n",
    "X_train = X_train.astype('float32') / 255\n",
    "\n",
    "X_test = X_test.reshape((10000, 28, 28, 1))\n",
    "X_test = X_test.astype('float32') / 255\n",
    "\n",
    "from keras.utils import to_categorical\n",
    "\n",
    "# convert labels to text (instead of value)\n",
    "y_train = to_categorical(y_train)\n",
    "y_test = to_categorical(y_test)"
   ]
  },
  {
   "cell_type": "markdown",
   "id": "9b24b823-71f6-4b0e-a0cd-63bccb43a996",
   "metadata": {},
   "source": [
    "Step 2: build CNN"
   ]
  },
  {
   "cell_type": "code",
   "execution_count": 4,
   "id": "f530e71b-7c52-4801-bb97-ab15f4a8d835",
   "metadata": {},
   "outputs": [],
   "source": [
    "from tensorflow.keras.models import Sequential\n",
    "from tensorflow.keras.layers import Dense, Dropout, Flatten, Conv2D, MaxPooling2D"
   ]
  },
  {
   "cell_type": "code",
   "execution_count": 5,
   "id": "66d128ae-1c04-47c7-86b1-90c00131c8ef",
   "metadata": {},
   "outputs": [
    {
     "name": "stdout",
     "output_type": "stream",
     "text": [
      "Model: \"sequential\"\n",
      "_________________________________________________________________\n",
      " Layer (type)                Output Shape              Param #   \n",
      "=================================================================\n",
      " conv2d (Conv2D)             (None, 26, 26, 32)        320       \n",
      "                                                                 \n",
      " max_pooling2d (MaxPooling2  (None, 13, 13, 32)        0         \n",
      " D)                                                              \n",
      "                                                                 \n",
      " conv2d_1 (Conv2D)           (None, 11, 11, 64)        18496     \n",
      "                                                                 \n",
      " max_pooling2d_1 (MaxPoolin  (None, 5, 5, 64)          0         \n",
      " g2D)                                                            \n",
      "                                                                 \n",
      " conv2d_2 (Conv2D)           (None, 3, 3, 64)          36928     \n",
      "                                                                 \n",
      " flatten (Flatten)           (None, 576)               0         \n",
      "                                                                 \n",
      " dense (Dense)               (None, 64)                36928     \n",
      "                                                                 \n",
      " dense_1 (Dense)             (None, 10)                650       \n",
      "                                                                 \n",
      "=================================================================\n",
      "Total params: 93322 (364.54 KB)\n",
      "Trainable params: 93322 (364.54 KB)\n",
      "Non-trainable params: 0 (0.00 Byte)\n",
      "_________________________________________________________________\n"
     ]
    }
   ],
   "source": [
    "model = Sequential()\n",
    "model.add(Conv2D(32, (3, 3), activation='relu', input_shape=(28, 28, 1))) # convolution (1)\n",
    "model.add(MaxPooling2D((2, 2)))                  # max pooling (1)\n",
    "model.add(Conv2D(64, (3, 3), activation='relu')) # convolution (2)\n",
    "model.add(MaxPooling2D((2, 2)))                  # max pooling (2)\n",
    "model.add(Conv2D(64, (3, 3), activation='relu')) # convolution (3)\n",
    "model.add(Flatten())\n",
    "# begin hidden layers\n",
    "model.add(Dense(64, activation='relu'))\n",
    "model.add(Dense(10, activation='softmax')) # result\n",
    "model.summary()"
   ]
  },
  {
   "cell_type": "markdown",
   "id": "a154a46f-e1e4-409a-8dad-e2d1c90ded98",
   "metadata": {},
   "source": [
    "Step 3: Run the CNN model"
   ]
  },
  {
   "cell_type": "code",
   "execution_count": 6,
   "id": "92239b43-c195-4880-b902-984fad83e4f0",
   "metadata": {},
   "outputs": [
    {
     "name": "stdout",
     "output_type": "stream",
     "text": [
      "Epoch 1/3\n",
      "938/938 [==============================] - 10s 11ms/step - loss: 0.1826 - accuracy: 0.9460\n",
      "Epoch 2/3\n",
      "938/938 [==============================] - 10s 11ms/step - loss: 0.0503 - accuracy: 0.9842\n",
      "Epoch 3/3\n",
      "938/938 [==============================] - 11s 12ms/step - loss: 0.0357 - accuracy: 0.9887\n"
     ]
    },
    {
     "data": {
      "text/plain": [
       "<keras.src.callbacks.History at 0x29d7e4990>"
      ]
     },
     "execution_count": 6,
     "metadata": {},
     "output_type": "execute_result"
    }
   ],
   "source": [
    "model.compile(optimizer='adam', \n",
    "              loss='categorical_crossentropy',\n",
    "              metrics=['accuracy']\n",
    "             )\n",
    "model.fit(X_train, y_train, epochs=3, batch_size=64)"
   ]
  },
  {
   "cell_type": "markdown",
   "id": "066e2d89-31c4-4b93-978b-f6fa2bdb1c3a",
   "metadata": {},
   "source": [
    "Step 4: Evaluation"
   ]
  },
  {
   "cell_type": "code",
   "execution_count": 7,
   "id": "3f20b564-64c1-410e-b097-40095bd2fd25",
   "metadata": {},
   "outputs": [
    {
     "name": "stdout",
     "output_type": "stream",
     "text": [
      "313/313 [==============================] - 1s 4ms/step - loss: 0.0360 - accuracy: 0.9871\n",
      "0.03604917973279953 0.9871000051498413\n"
     ]
    }
   ],
   "source": [
    "val_loss, val_acc = model.evaluate(X_test, y_test)\n",
    "print(val_loss, val_acc)"
   ]
  },
  {
   "cell_type": "code",
   "execution_count": null,
   "id": "e24e7fa7-48b8-4496-86b6-d2b4af275415",
   "metadata": {},
   "outputs": [],
   "source": []
  }
 ],
 "metadata": {
  "kernelspec": {
   "display_name": "Python 3 (ipykernel)",
   "language": "python",
   "name": "python3"
  },
  "language_info": {
   "codemirror_mode": {
    "name": "ipython",
    "version": 3
   },
   "file_extension": ".py",
   "mimetype": "text/x-python",
   "name": "python",
   "nbconvert_exporter": "python",
   "pygments_lexer": "ipython3",
   "version": "3.11.7"
  }
 },
 "nbformat": 4,
 "nbformat_minor": 5
}
