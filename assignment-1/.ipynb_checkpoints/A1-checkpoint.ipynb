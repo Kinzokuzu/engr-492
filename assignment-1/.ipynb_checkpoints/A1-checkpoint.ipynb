{
 "cells": [
  {
   "cell_type": "markdown",
   "id": "380e8153",
   "metadata": {},
   "source": [
    "# Assignment 1: Get Familiar with Python and Data Processing"
   ]
  },
  {
   "cell_type": "markdown",
   "id": "7fea28d2",
   "metadata": {},
   "source": [
    "Your Name: "
   ]
  },
  {
   "cell_type": "markdown",
   "id": "30a5d5ce",
   "metadata": {},
   "source": [
    "Import necessary library tools into the environment; Please Google the name of each library to get feel for why they are all very useful."
   ]
  },
  {
   "cell_type": "code",
   "execution_count": 1,
   "id": "3a97e578",
   "metadata": {},
   "outputs": [
    {
     "ename": "ImportError",
     "evalue": "cannot import name 'plot_confusion_matrix' from 'sklearn.metrics' (/Users/kinzo/anaconda3/lib/python3.11/site-packages/sklearn/metrics/__init__.py)",
     "output_type": "error",
     "traceback": [
      "\u001b[0;31m---------------------------------------------------------------------------\u001b[0m",
      "\u001b[0;31mImportError\u001b[0m                               Traceback (most recent call last)",
      "Cell \u001b[0;32mIn[1], line 11\u001b[0m\n\u001b[1;32m      9\u001b[0m \u001b[38;5;28;01mfrom\u001b[39;00m \u001b[38;5;21;01msklearn\u001b[39;00m\u001b[38;5;21;01m.\u001b[39;00m\u001b[38;5;21;01mpreprocessing\u001b[39;00m \u001b[38;5;28;01mimport\u001b[39;00m StandardScaler\n\u001b[1;32m     10\u001b[0m \u001b[38;5;28;01mfrom\u001b[39;00m \u001b[38;5;21;01msklearn\u001b[39;00m\u001b[38;5;21;01m.\u001b[39;00m\u001b[38;5;21;01mmetrics\u001b[39;00m \u001b[38;5;28;01mimport\u001b[39;00m confusion_matrix\n\u001b[0;32m---> 11\u001b[0m \u001b[38;5;28;01mfrom\u001b[39;00m \u001b[38;5;21;01msklearn\u001b[39;00m\u001b[38;5;21;01m.\u001b[39;00m\u001b[38;5;21;01mmetrics\u001b[39;00m \u001b[38;5;28;01mimport\u001b[39;00m plot_confusion_matrix\n\u001b[1;32m     12\u001b[0m \u001b[38;5;28;01mfrom\u001b[39;00m \u001b[38;5;21;01msklearn\u001b[39;00m\u001b[38;5;21;01m.\u001b[39;00m\u001b[38;5;21;01mmodel_selection\u001b[39;00m \u001b[38;5;28;01mimport\u001b[39;00m StratifiedShuffleSplit\n\u001b[1;32m     13\u001b[0m \u001b[38;5;28;01mfrom\u001b[39;00m \u001b[38;5;21;01msklearn\u001b[39;00m\u001b[38;5;21;01m.\u001b[39;00m\u001b[38;5;21;01mmodel_selection\u001b[39;00m \u001b[38;5;28;01mimport\u001b[39;00m StratifiedKFold\n",
      "\u001b[0;31mImportError\u001b[0m: cannot import name 'plot_confusion_matrix' from 'sklearn.metrics' (/Users/kinzo/anaconda3/lib/python3.11/site-packages/sklearn/metrics/__init__.py)"
     ]
    }
   ],
   "source": [
    "import numpy as np\n",
    "import pandas as pd\n",
    "from matplotlib.colors import ListedColormap\n",
    "import matplotlib.pyplot as plt\n",
    "from sklearn import neighbors\n",
    "from sklearn.metrics import accuracy_score, classification_report\n",
    "from sklearn.model_selection import train_test_split\n",
    "from sklearn.model_selection import cross_val_score\n",
    "from sklearn.preprocessing import StandardScaler\n",
    "from sklearn.metrics import confusion_matrix\n",
    "from sklearn.metrics import plot_confusion_matrix\n",
    "from sklearn.model_selection import StratifiedShuffleSplit\n",
    "from sklearn.model_selection import StratifiedKFold\n",
    "from sklearn.model_selection import (TimeSeriesSplit, KFold, ShuffleSplit,\n",
    "                                     StratifiedKFold, GroupShuffleSplit,\n",
    "                                     GroupKFold, StratifiedShuffleSplit)\n",
    "from sklearn.model_selection import TimeSeriesSplit\n",
    "from scipy.signal import hilbert, chirp \n",
    "\n",
    "sc = StandardScaler()"
   ]
  },
  {
   "cell_type": "markdown",
   "id": "bacd7c9b",
   "metadata": {},
   "source": [
    "Step 1: Import the data from a accerelometer and gyroscope from \"putty.log\""
   ]
  },
  {
   "cell_type": "code",
   "execution_count": null,
   "id": "637a8045",
   "metadata": {},
   "outputs": [],
   "source": [
    "#open the file\n",
    "fin = open(r\"/Users/kinzo/Dev/engr-492/assignment-1/putty.log\",\"r+\")\n",
    "\n",
    "#store data in 2d array\n",
    "data = [[]]\n",
    "\n",
    "line = fin.readline()\n",
    "while(line):\n",
    "#   data.append(line.split('\\n'))\n",
    "   data.append(line.split(','))\n",
    "   line = fin.readline()\n",
    "\n",
    "data = data[1:]\n",
    "# double check the data integrity\n",
    "#print(data)"
   ]
  },
  {
   "cell_type": "code",
   "execution_count": null,
   "id": "eeadf085",
   "metadata": {},
   "outputs": [],
   "source": [
    "#Data Visualization\n",
    "aX = []\n",
    "aY = []\n",
    "aZ = []\n",
    "bX = []\n",
    "bY = []\n",
    "bZ = []\n",
    "t = []\n",
    "I = []\n",
    "\n",
    "time = 0\n",
    "for log in data:\n",
    "    aX.append(float(log[0]))\n",
    "    aY.append(float(log[1])) ,\n",
    "    aZ.append(float(log[2]))\n",
    "    bX.append(float(log[6]))\n",
    "    bY.append(float(log[7])) ,\n",
    "    bZ.append(float(log[8]))\n",
    "    t.append(time)\n",
    "    I.append(float(log[10]))\n",
    "    time += 1\n",
    "     \n",
    "    \n",
    "plt.plot(t, aX)\n",
    "plt.xlabel('time')\n",
    "plt.ylabel(\"Acceleration X-axis\")\n",
    "plt.show()\n",
    "\n",
    "plt.plot(t, aY)\n",
    "plt.xlabel('time')\n",
    "plt.ylabel(\"Acceleration Y-axis\")\n",
    "plt.show()\n",
    "\n",
    "plt.plot(t, aZ)\n",
    "plt.xlabel('time')\n",
    "plt.ylabel(\"Acceleration Z-axis\")\n",
    "plt.show()\n",
    "\n",
    "plt.plot(t, bX)\n",
    "plt.xlabel('time')\n",
    "plt.ylabel(\"Gyroscope X-axis\")\n",
    "plt.show()\n",
    "\n",
    "plt.plot(t, bY)\n",
    "plt.xlabel('time')\n",
    "plt.ylabel(\"Gyroscope Y-axis\")\n",
    "plt.show()\n",
    "\n",
    "plt.plot(t, bZ)\n",
    "plt.xlabel('time')\n",
    "plt.ylabel(\"Gyroscope Z-axis\")\n",
    "plt.show()\n",
    "\n",
    "\n",
    "#print(\"TIme starts here\",t)"
   ]
  },
  {
   "cell_type": "markdown",
   "id": "1f4f31b6",
   "metadata": {},
   "source": [
    "Step 2: Clipping data "
   ]
  },
  {
   "cell_type": "code",
   "execution_count": null,
   "id": "f3094734",
   "metadata": {},
   "outputs": [],
   "source": [
    "start = 100\n",
    "amount = 15500\n",
    "print(len(aZ))\n",
    "data = data[start:amount]\n",
    "print(\"length of the data\",len(data))"
   ]
  },
  {
   "cell_type": "markdown",
   "id": "5a582055",
   "metadata": {},
   "source": [
    "Step 3: Chunking: chopping each X,Y,Z, acceleration and each X,Y,Z, angular rotation acceleration data into many many equal size windows (hint: 20 data points per chunk)"
   ]
  },
  {
   "cell_type": "markdown",
   "id": "becde2b9",
   "metadata": {},
   "source": [
    "Step 4: Feature Extraction: find (1) mean, (2) rms, (3)slope sign change, (4) number of positive peaks, (5) number of negative peaks, (6) number of zero crossing"
   ]
  },
  {
   "cell_type": "markdown",
   "id": "babde04b",
   "metadata": {},
   "source": [
    "Step 5: Reconstruction of the data matrix"
   ]
  },
  {
   "cell_type": "code",
   "execution_count": 2,
   "id": "23caeb26",
   "metadata": {},
   "outputs": [
    {
     "ename": "NameError",
     "evalue": "name 'aX' is not defined",
     "output_type": "error",
     "traceback": [
      "\u001b[0;31m---------------------------------------------------------------------------\u001b[0m",
      "\u001b[0;31mNameError\u001b[0m                                 Traceback (most recent call last)",
      "Cell \u001b[0;32mIn[2], line 1\u001b[0m\n\u001b[0;32m----> 1\u001b[0m \u001b[38;5;28mlen\u001b[39m(aX)\n",
      "\u001b[0;31mNameError\u001b[0m: name 'aX' is not defined"
     ]
    }
   ],
   "source": [
    "len(aX)"
   ]
  },
  {
   "cell_type": "code",
   "execution_count": 6,
   "id": "f645147c",
   "metadata": {},
   "outputs": [],
   "source": [
    "def slope_sign_change(arr):\n",
    "    \"\"\"\n",
    "    Checks if there is a sign change in the slope of the array.\n",
    "    Returns True if there is a sign change, False otherwise.\n",
    "    \"\"\"\n",
    "    sc = 0\n",
    "    for i in range(len(arr)-2):\n",
    "        slope1 = arr[i+1] - arr[i]\n",
    "        slope2 = arr[i+2] - arr[i+1]\n",
    "        if slope1 * slope2 < 0:\n",
    "            sc += 1\n",
    "            return\n",
    "    return sc"
   ]
  },
  {
   "cell_type": "code",
   "execution_count": 7,
   "id": "fdae3f1a",
   "metadata": {},
   "outputs": [],
   "source": [
    "a = slope_sign_change([1, 2, -1, -2, 1])"
   ]
  },
  {
   "cell_type": "code",
   "execution_count": 8,
   "id": "fa8b4d5b",
   "metadata": {},
   "outputs": [
    {
     "name": "stdout",
     "output_type": "stream",
     "text": [
      "None\n"
     ]
    }
   ],
   "source": [
    "print(a)"
   ]
  },
  {
   "cell_type": "code",
   "execution_count": 9,
   "id": "8389614c",
   "metadata": {},
   "outputs": [],
   "source": [
    "arr=np.array([1, 2, -1, -2, 1])"
   ]
  },
  {
   "cell_type": "code",
   "execution_count": 10,
   "id": "d5781ab4",
   "metadata": {},
   "outputs": [
    {
     "name": "stdout",
     "output_type": "stream",
     "text": [
      "2\n"
     ]
    }
   ],
   "source": [
    "sc = 0\n",
    "for i in range(len(arr)-2):\n",
    "    slope1 = arr[i+1] - arr[i]\n",
    "    slope2 = arr[i+2] - arr[i+1]\n",
    "    if slope1 * slope2 < 0:\n",
    "        sc += 1\n",
    "print (sc)"
   ]
  },
  {
   "cell_type": "code",
   "execution_count": null,
   "id": "f395262f",
   "metadata": {},
   "outputs": [],
   "source": []
  }
 ],
 "metadata": {
  "kernelspec": {
   "display_name": "Python 3 (ipykernel)",
   "language": "python",
   "name": "python3"
  },
  "language_info": {
   "codemirror_mode": {
    "name": "ipython",
    "version": 3
   },
   "file_extension": ".py",
   "mimetype": "text/x-python",
   "name": "python",
   "nbconvert_exporter": "python",
   "pygments_lexer": "ipython3",
   "version": "3.11.5"
  }
 },
 "nbformat": 4,
 "nbformat_minor": 5
}
