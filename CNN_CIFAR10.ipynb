{
 "cells": [
  {
   "cell_type": "markdown",
   "id": "d963f2b5-c127-4d1c-96af-2b580a280a21",
   "metadata": {},
   "source": [
    "### CNN for CiFar10"
   ]
  },
  {
   "cell_type": "code",
   "execution_count": 1,
   "id": "49e22a07-2aa8-44f0-9f24-f571110a64c3",
   "metadata": {},
   "outputs": [],
   "source": [
    "import tensorflow as tf\n",
    "from tensorflow.keras import datasets, layers, models\n",
    "import matplotlib.pyplot as plt"
   ]
  },
  {
   "cell_type": "code",
   "execution_count": 2,
   "id": "35a14371-00d6-40d3-84e1-0a7dde817c29",
   "metadata": {},
   "outputs": [
    {
     "name": "stdout",
     "output_type": "stream",
     "text": [
      "Downloading data from https://www.cs.toronto.edu/~kriz/cifar-10-python.tar.gz\n",
      "170498071/170498071 [==============================] - 89s 1us/step\n"
     ]
    }
   ],
   "source": [
    "# load the CiFar10 datset\n",
    "(train_images, train_labels), (test_images, test_labels) = datasets.cifar10.load_data()"
   ]
  },
  {
   "cell_type": "code",
   "execution_count": 3,
   "id": "92b8b296-1402-46ee-9a35-d3bfbcb6d6b5",
   "metadata": {},
   "outputs": [],
   "source": [
    "class_names = ['airplane', 'automobile', 'bird', 'cat', 'deer', 'dog', 'frog', 'horse', 'ship', 'truck']"
   ]
  },
  {
   "cell_type": "code",
   "execution_count": 4,
   "id": "b012aa3c-9f74-40ce-9a0b-3a83475b434b",
   "metadata": {},
   "outputs": [
    {
     "name": "stdout",
     "output_type": "stream",
     "text": [
      "Training Set Dimension:(50000, 32, 32, 3)\n"
     ]
    }
   ],
   "source": [
    "print(f\"Training Set Dimension:{train_images.shape}\")"
   ]
  },
  {
   "cell_type": "code",
   "execution_count": 12,
   "id": "d15828a4-6b30-46ce-b24c-8117b802b2ae",
   "metadata": {},
   "outputs": [
    {
     "name": "stdout",
     "output_type": "stream",
     "text": [
      "Single Set Dimension:(32, 32, 3)\n",
      "Example Image Label:bird\n"
     ]
    },
    {
     "data": {
      "image/png": "[encoded data removed]",
      "text/plain": [
       "<Figure size 640x480 with 1 Axes>"
      ]
     },
     "metadata": {},
     "output_type": "display_data"
    }
   ],
   "source": [
    "imageNum = 144\n",
    "sampleImage = train_images[imageNum]\n",
    "\n",
    "print(f\"Single Set Dimension:{sampleImage.shape}\")\n",
    "plt.imshow(sampleImage, cmap=plt.cm.binary)\n",
    "\n",
    "print(f\"Example Image Label:{class_names[train_labels[imageNum].item(0)]}\")"
   ]
  },
  {
   "cell_type": "code",
   "execution_count": null,
   "id": "023dae13-2c99-4d47-83b6-1ccceb7c3dd3",
   "metadata": {},
   "outputs": [],
   "source": []
  }
 ],
 "metadata": {
  "kernelspec": {
   "display_name": "Python 3 (ipykernel)",
   "language": "python",
   "name": "python3"
  },
  "language_info": {
   "codemirror_mode": {
    "name": "ipython",
    "version": 3
   },
   "file_extension": ".py",
   "mimetype": "text/x-python",
   "name": "python",
   "nbconvert_exporter": "python",
   "pygments_lexer": "ipython3",
   "version": "3.11.7"
  }
 },
 "nbformat": 4,
 "nbformat_minor": 5
}
