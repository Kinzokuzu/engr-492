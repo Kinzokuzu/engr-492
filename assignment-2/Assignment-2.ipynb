{
 "cells": [
  {
   "cell_type": "markdown",
   "id": "3f75b718-a623-47db-b688-dd26fdd15cce",
   "metadata": {},
   "source": [
    "Step 1) Read our csv"
   ]
  },
  {
   "cell_type": "code",
   "execution_count": 1,
   "id": "a545c55b-5656-4323-8ab0-f513f5ea0cda",
   "metadata": {},
   "outputs": [],
   "source": [
    "import pandas as pd\n",
    "df = pd.read_csv('dataset.csv')"
   ]
  },
  {
   "cell_type": "code",
   "execution_count": 2,
   "id": "b89b231d-2c20-4804-8aed-cd20cf7d308f",
   "metadata": {},
   "outputs": [],
   "source": [
    "# df.plot.scatter('Height (meters)', 'Weight (kg)')\n",
    "df0 = df[df['health index'] == 0].copy()\n",
    "df1 = df[df['health index'] == 1].copy()\n",
    "df2 = df[df['health index'] == 2].copy()\n",
    "df3 = df[df['health index'] == -1].copy()\n",
    "df4 = df[df['health index'] == -2].copy()"
   ]
  },
  {
   "cell_type": "code",
   "execution_count": 3,
   "id": "df5e2a59-4426-45ae-9ee5-fc6c0da4f60b",
   "metadata": {},
   "outputs": [],
   "source": [
    "from matplotlib import pyplot as plt"
   ]
  },
  {
   "cell_type": "code",
   "execution_count": 4,
   "id": "0ed1c28d-3c65-431c-b327-8515c9000657",
   "metadata": {},
   "outputs": [
    {
     "data": {
      "image/png": "[encoded data removed]",
      "text/plain": [
       "<Figure size 640x480 with 1 Axes>"
      ]
     },
     "metadata": {},
     "output_type": "display_data"
    }
   ],
   "source": [
    "plt.scatter(df0['Height (meters)'], df0['Weight (kg)'], color='blue')\n",
    "plt.scatter(df1['Height (meters)'], df1['Weight (kg)'], color='green')\n",
    "plt.scatter(df2['Height (meters)'], df2['Weight (kg)'], color='red')\n",
    "plt.scatter(df3['Height (meters)'], df3['Weight (kg)'], color='green')\n",
    "plt.scatter(df4['Height (meters)'], df4['Weight (kg)'], color='red')\n",
    "plt.show()"
   ]
  },
  {
   "cell_type": "markdown",
   "id": "ee2fefb4-7d5c-436c-a0b9-403ae7619db5",
   "metadata": {},
   "source": [
    "Step 2) KNN classification"
   ]
  },
  {
   "cell_type": "code",
   "execution_count": 5,
   "id": "9d165dd2-1415-4792-a549-b0713996c3f2",
   "metadata": {},
   "outputs": [
    {
     "data": {
      "text/html": [
       "<div>\n",
       "<style scoped>\n",
       "    .dataframe tbody tr th:only-of-type {\n",
       "        vertical-align: middle;\n",
       "    }\n",
       "\n",
       "    .dataframe tbody tr th {\n",
       "        vertical-align: top;\n",
       "    }\n",
       "\n",
       "    .dataframe thead th {\n",
       "        text-align: right;\n",
       "    }\n",
       "</style>\n",
       "<table border=\"1\" class=\"dataframe\">\n",
       "  <thead>\n",
       "    <tr style=\"text-align: right;\">\n",
       "      <th></th>\n",
       "      <th>Height (meters)</th>\n",
       "      <th>Weight (kg)</th>\n",
       "    </tr>\n",
       "  </thead>\n",
       "  <tbody>\n",
       "    <tr>\n",
       "      <th>0</th>\n",
       "      <td>1.62</td>\n",
       "      <td>56.4</td>\n",
       "    </tr>\n",
       "    <tr>\n",
       "      <th>1</th>\n",
       "      <td>1.62</td>\n",
       "      <td>66.5</td>\n",
       "    </tr>\n",
       "    <tr>\n",
       "      <th>2</th>\n",
       "      <td>1.63</td>\n",
       "      <td>62.8</td>\n",
       "    </tr>\n",
       "    <tr>\n",
       "      <th>3</th>\n",
       "      <td>1.63</td>\n",
       "      <td>49.5</td>\n",
       "    </tr>\n",
       "    <tr>\n",
       "      <th>4</th>\n",
       "      <td>1.63</td>\n",
       "      <td>44.6</td>\n",
       "    </tr>\n",
       "  </tbody>\n",
       "</table>\n",
       "</div>"
      ],
      "text/plain": [
       "   Height (meters)  Weight (kg)\n",
       "0             1.62         56.4\n",
       "1             1.62         66.5\n",
       "2             1.63         62.8\n",
       "3             1.63         49.5\n",
       "4             1.63         44.6"
      ]
     },
     "execution_count": 5,
     "metadata": {},
     "output_type": "execute_result"
    }
   ],
   "source": [
    "X = df.drop('health index', axis=1).copy()\n",
    "X.head()"
   ]
  },
  {
   "cell_type": "code",
   "execution_count": 6,
   "id": "65573ab9-f593-43fb-93a8-513c4f13b4d0",
   "metadata": {},
   "outputs": [
    {
     "data": {
      "text/plain": [
       "0    0\n",
       "1    2\n",
       "2    1\n",
       "3   -1\n",
       "4   -2\n",
       "Name: health index, dtype: int64"
      ]
     },
     "execution_count": 6,
     "metadata": {},
     "output_type": "execute_result"
    }
   ],
   "source": [
    "y = df['health index'].copy()\n",
    "y.head()"
   ]
  },
  {
   "cell_type": "code",
   "execution_count": 7,
   "id": "f7cc8d08-77fd-4514-965f-4cfc989bc3a4",
   "metadata": {},
   "outputs": [],
   "source": [
    "from sklearn.model_selection import train_test_split"
   ]
  },
  {
   "cell_type": "code",
   "execution_count": 8,
   "id": "c9bab0df-bd31-4cc7-beb0-fb97e70f6818",
   "metadata": {},
   "outputs": [],
   "source": [
    "X_train, X_test, y_train, y_test = train_test_split(X, y, test_size=0.1, random_state=1)"
   ]
  },
  {
   "cell_type": "markdown",
   "id": "2bfe15dd-7258-4666-85df-7e6e9815b5e8",
   "metadata": {},
   "source": [
    "Step 3) Predict the helath index with (height, weight)"
   ]
  },
  {
   "cell_type": "code",
   "execution_count": 9,
   "id": "820475d4-7c6c-48d8-b0af-6db31f485eb3",
   "metadata": {},
   "outputs": [],
   "source": [
    "from sklearn.neighbors import KNeighborsClassifier"
   ]
  },
  {
   "cell_type": "code",
   "execution_count": 13,
   "id": "3065e257-8206-4e76-95ab-780930225829",
   "metadata": {},
   "outputs": [
    {
     "data": {
      "text/plain": [
       "0.2"
      ]
     },
     "execution_count": 13,
     "metadata": {},
     "output_type": "execute_result"
    }
   ],
   "source": [
    "knn = KNeighborsClassifier(n_neighbors=3)\n",
    "knn.fit(X_train, y_train)\n",
    "knn.score(X_test, y_test)"
   ]
  },
  {
   "cell_type": "code",
   "execution_count": 11,
   "id": "a09f515e-e9c4-44ee-b67c-d5ca1aabbdcf",
   "metadata": {},
   "outputs": [
    {
     "data": {
      "text/plain": [
       "array([[0, 1, 0, 0, 0],\n",
       "       [0, 0, 1, 0, 0],\n",
       "       [0, 0, 0, 1, 0],\n",
       "       [0, 1, 0, 0, 0],\n",
       "       [0, 0, 0, 1, 0]])"
      ]
     },
     "execution_count": 11,
     "metadata": {},
     "output_type": "execute_result"
    }
   ],
   "source": [
    "from sklearn.metrics import confusion_matrix\n",
    "y_pred = knn.predict(X_test)\n",
    "cm = confusion_matrix(y_test, y_pred)\n",
    "cm"
   ]
  },
  {
   "cell_type": "code",
   "execution_count": null,
   "id": "29d83f13-0567-488b-8428-511463f7f423",
   "metadata": {},
   "outputs": [],
   "source": []
  }
 ],
 "metadata": {
  "kernelspec": {
   "display_name": "Python 3 (ipykernel)",
   "language": "python",
   "name": "python3"
  },
  "language_info": {
   "codemirror_mode": {
    "name": "ipython",
    "version": 3
   },
   "file_extension": ".py",
   "mimetype": "text/x-python",
   "name": "python",
   "nbconvert_exporter": "python",
   "pygments_lexer": "ipython3",
   "version": "3.11.7"
  }
 },
 "nbformat": 4,
 "nbformat_minor": 5
}
