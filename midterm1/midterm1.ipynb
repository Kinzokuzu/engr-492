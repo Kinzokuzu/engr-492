{
 "cells": [
  {
   "cell_type": "markdown",
   "metadata": {},
   "source": [
    "# Two Layer Nueral Network"
   ]
  },
  {
   "cell_type": "code",
   "execution_count": 1,
   "metadata": {
    "_cell_guid": "b1076dfc-b9ad-4769-8c92-a6c4dae69d19",
    "_uuid": "8f2839f25d086af736a60e9eeb907d3b93b6e0e5"
   },
   "outputs": [],
   "source": [
    "import numpy as np\n",
    "import pandas as pd\n",
    "from matplotlib import pyplot as plt"
   ]
  },
  {
   "cell_type": "markdown",
   "metadata": {},
   "source": [
    "## Data Processing"
   ]
  },
  {
   "cell_type": "code",
   "execution_count": 2,
   "metadata": {},
   "outputs": [],
   "source": [
    "data = pd.read_csv('~/Dev/engr-492/midterm1/train.csv')\n",
    "\n",
    "data = np.array(data) # convert to numpy array\n",
    "m, n = data.shape     # m: rows, n: columns\n",
    "np.random.shuffle(data)\n",
    "\n",
    "data_test = data[0:1000].T\n",
    "Y_test = data_test[0]\n",
    "X_test = data_test[1:n] # first row is the header\n",
    "X_test = X_test / 255   # normalize\n",
    "\n",
    "data_train = data[1000:m].T\n",
    "Y_train = data_train[0]\n",
    "X_train = data_train[1:n] # first row is the header\n",
    "X_train = X_train / 255   # normalize"
   ]
  },
  {
   "cell_type": "markdown",
   "metadata": {},
   "source": [
    "## Preperation for Gradient Decent"
   ]
  },
  {
   "cell_type": "code",
   "execution_count": 3,
   "metadata": {},
   "outputs": [],
   "source": [
    "layer1_nc = 16\n",
    "layer2_nc = 10 # must be at least 10, > 10 has no effect on accuracy\n",
    "\n",
    "\n",
    "def init_params():\n",
    "    \"\"\"\n",
    "    Returns random weights and biases for layers one (W1, b1) & two (W2, b2).\n",
    "    \"\"\"\n",
    "    W1 = np.random.rand(layer1_nc, 784) - 0.5\n",
    "    b1 = np.random.rand(layer1_nc, 1) - 0.5\n",
    "    W2 = np.random.rand(layer2_nc, layer1_nc) - 0.5\n",
    "    b2 = np.random.rand(layer2_nc, 1) - 0.5\n",
    "    \n",
    "    return W1, b1, W2, b2\n",
    "\n",
    "\n",
    "def ReLU(Z):\n",
    "    \"\"\"\n",
    "    Rectified Linear Unit.\n",
    "    \"\"\"\n",
    "    return np.maximum(0, Z)\n",
    "\n",
    "\n",
    "def softmax(Z):\n",
    "    \"\"\"\n",
    "    Returns the normalized exponetial function of Z.\n",
    "    \"\"\"\n",
    "    return np.exp(Z) / sum(np.exp(Z))\n",
    "    \n",
    "\n",
    "def forward_prop(W1, b1, W2, b2, X):\n",
    "    \"\"\"\n",
    "    Returns the results of the linear function & activation function\n",
    "    for layers one (Z1, A1) & two (Z2, A2).\n",
    "\n",
    "    A2: predicitons\n",
    "    \"\"\"\n",
    "    # layer one\n",
    "    Z1 = W1.dot(X) + b1\n",
    "    A1 = ReLU(Z1)\n",
    "    \n",
    "    # layer two (output layer)\n",
    "    Z2 = W2.dot(A1) + b2\n",
    "    A2 = softmax(Z2) # predictions\n",
    "    \n",
    "    return Z1, A1, Z2, A2\n",
    "\n",
    "\n",
    "def deriv_ReLU(Z):\n",
    "    return Z > 0\n",
    "\n",
    "\n",
    "def one_hot(Y):\n",
    "    one_hot_Y = np.zeros((Y.size, layer2_nc))\n",
    "    one_hot_Y[np.arange(Y.size), Y] = 1 # encoding\n",
    "    one_hot_Y = one_hot_Y.T\n",
    "    \n",
    "    return one_hot_Y\n",
    "\n",
    "\n",
    "def back_prop(Z1, A1, Z2, A2, W1, W2, X, Y):\n",
    "    \"\"\"\n",
    "    Returns the gradients for the wieghts & biases\n",
    "    \"\"\"\n",
    "    one_hot_Y = one_hot(Y)\n",
    "\n",
    "    # layer two (output layer)\n",
    "    dZ2 = A2 - one_hot_Y # prediction error\n",
    "    dW2 = (1 / m) * dZ2.dot(A1.T)\n",
    "    db2 = (1 / m) * np.sum(dZ2)\n",
    "\n",
    "    # layer one\n",
    "    dZ1 = W2.T.dot(dZ2) * deriv_ReLU(Z1)\n",
    "    dW1 = (1 / m) * dZ1.dot(X.T)\n",
    "    db1 = (1 / m) * np.sum(dZ1)\n",
    "    \n",
    "    return dW1, db1, dW2, db2\n",
    "\n",
    "\n",
    "def update_params(W1, b1, W2, b2, dW1, db1, dW2, db2, alpha):\n",
    "    W1 -= alpha * dW1\n",
    "    b1 -= alpha * db1\n",
    "    W2 -= alpha * dW2\n",
    "    b2 -= alpha * db2\n",
    "    \n",
    "    return W1, b1, W2, b2"
   ]
  },
  {
   "cell_type": "markdown",
   "metadata": {},
   "source": [
    "## Gradient Descent"
   ]
  },
  {
   "cell_type": "code",
   "execution_count": 4,
   "metadata": {},
   "outputs": [],
   "source": [
    "def get_predictions(A2):\n",
    "    return np.argmax(A2, 0)\n",
    "\n",
    "\n",
    "def get_accuracy(predictions, Y):\n",
    "    print(predictions, Y)\n",
    "    return np.sum(predictions == Y) / Y.size\n",
    "\n",
    "\n",
    "def gradient_descent(X, Y, iterations, alpha):\n",
    "    \"\"\"\n",
    "    Returns the trained & final weights & biases.\n",
    "    \"\"\"\n",
    "    W1, b1, W2, b2 = init_params()\n",
    "    \n",
    "    for i in range(iterations):\n",
    "        # training\n",
    "        Z1, A1, Z2, A2 = forward_prop(W1, b1, W2, b2, X)                          # make a prediciton\n",
    "        dW1, db1, dW2, db2 = back_prop(Z1, A1, Z2, A2, W1, W2, X, Y)              # find parameter gradients      \n",
    "        W1, b1, W2, b2 = update_params(W1, b1, W2, b2, dW1, db1, dW2, db2, alpha) # update parameters\n",
    "\n",
    "        if i % 100 == 0:\n",
    "            print(\"Iteration: \", i)\n",
    "            print(\"Accuracy: \", get_accuracy(get_predictions(A2), Y))\n",
    "\n",
    "    # print message for final iteration\n",
    "    print(\"Iteration: \", iterations)\n",
    "    print(\"Accuracy: \", get_accuracy(get_predictions(A2), Y))\n",
    "            \n",
    "    return W1, b1, W2, b2"
   ]
  },
  {
   "cell_type": "markdown",
   "metadata": {},
   "source": [
    "## Training"
   ]
  },
  {
   "cell_type": "code",
   "execution_count": 5,
   "metadata": {},
   "outputs": [
    {
     "name": "stdout",
     "output_type": "stream",
     "text": [
      "Iteration:  0\n",
      "[1 1 3 ... 9 1 1] [3 0 5 ... 9 9 6]\n",
      "Accuracy:  0.10846341463414634\n",
      "Iteration:  100\n",
      "[3 0 3 ... 9 1 6] [3 0 5 ... 9 9 6]\n",
      "Accuracy:  0.7024634146341463\n",
      "Iteration:  200\n",
      "[3 0 5 ... 9 9 6] [3 0 5 ... 9 9 6]\n",
      "Accuracy:  0.8012682926829269\n",
      "Iteration:  300\n",
      "[3 0 5 ... 9 9 6] [3 0 5 ... 9 9 6]\n",
      "Accuracy:  0.8353658536585366\n",
      "Iteration:  400\n",
      "[3 0 5 ... 9 7 6] [3 0 5 ... 9 9 6]\n",
      "Accuracy:  0.8538048780487805\n",
      "Iteration:  500\n",
      "[3 0 5 ... 9 7 6] [3 0 5 ... 9 9 6]\n",
      "Accuracy:  0.8675121951219512\n"
     ]
    }
   ],
   "source": [
    "W1, b1, W2, b2 = gradient_descent(X_train, Y_train, 500, 0.1)"
   ]
  },
  {
   "cell_type": "markdown",
   "metadata": {},
   "source": [
    "## Examples"
   ]
  },
  {
   "cell_type": "code",
   "execution_count": 6,
   "metadata": {},
   "outputs": [],
   "source": [
    "def make_predictions(X, W1, b1, W2, b2):\n",
    "    _, _, _, A2 = forward_prop(W1, b1, W2, b2, X)\n",
    "    predictions = get_predictions(A2)\n",
    "    return predictions\n",
    "\n",
    "\n",
    "def test_prediction(index, W1, b1, W2, b2):\n",
    "    \"\"\"\n",
    "    Displays the model's prediciton along with the true label & image\n",
    "    \"\"\"\n",
    "    current_image = X_train[:, index, None]\n",
    "    prediction = make_predictions(X_train[:, index, None], W1, b1, W2, b2)\n",
    "    label = Y_train[index] # true label\n",
    "    print(\"Prediciton: \", prediction)\n",
    "    print(\"Label: \", label)\n",
    "\n",
    "    # display image\n",
    "    current_image = current_image.reshape((28, 28)) * 255\n",
    "    plt.gray()\n",
    "    plt.imshow(current_image, interpolation='nearest')\n",
    "    plt.show()"
   ]
  },
  {
   "cell_type": "code",
   "execution_count": 7,
   "metadata": {},
   "outputs": [
    {
     "name": "stdout",
     "output_type": "stream",
     "text": [
      "Prediciton:  [6]\n",
      "Label:  6\n"
     ]
    },
    {
     "data": {
      "image/png": "[encoded data removed]",
      "text/plain": [
       "<Figure size 640x480 with 1 Axes>"
      ]
     },
     "metadata": {},
     "output_type": "display_data"
    },
    {
     "name": "stdout",
     "output_type": "stream",
     "text": [
      "Prediciton:  [4]\n",
      "Label:  9\n"
     ]
    },
    {
     "data": {
      "image/png": "[encoded data removed]",
      "text/plain": [
       "<Figure size 640x480 with 1 Axes>"
      ]
     },
     "metadata": {},
     "output_type": "display_data"
    },
    {
     "name": "stdout",
     "output_type": "stream",
     "text": [
      "Prediciton:  [0]\n",
      "Label:  0\n"
     ]
    },
    {
     "data": {
      "image/png": "[encoded data removed]",
      "text/plain": [
       "<Figure size 640x480 with 1 Axes>"
      ]
     },
     "metadata": {},
     "output_type": "display_data"
    },
    {
     "name": "stdout",
     "output_type": "stream",
     "text": [
      "Prediciton:  [1]\n",
      "Label:  1\n"
     ]
    },
    {
     "data": {
      "image/png": "[encoded data removed]",
      "text/plain": [
       "<Figure size 640x480 with 1 Axes>"
      ]
     },
     "metadata": {},
     "output_type": "display_data"
    },
    {
     "name": "stdout",
     "output_type": "stream",
     "text": [
      "Prediciton:  [0]\n",
      "Label:  0\n"
     ]
    },
    {
     "data": {
      "image/png": "[encoded data removed]",
      "text/plain": [
       "<Figure size 640x480 with 1 Axes>"
      ]
     },
     "metadata": {},
     "output_type": "display_data"
    }
   ],
   "source": [
    "for _ in range(5):\n",
    "    test_prediction(np.random.randint(0, n), W1, b1, W2, b2)"
   ]
  },
  {
   "cell_type": "markdown",
   "metadata": {},
   "source": [
    "## Accuracy on Test Set"
   ]
  },
  {
   "cell_type": "code",
   "execution_count": 8,
   "metadata": {},
   "outputs": [
    {
     "name": "stdout",
     "output_type": "stream",
     "text": [
      "[5 3 0 9 1 5 1 6 9 7 6 5 7 8 9 7 8 2 3 8 3 7 0 9 2 9 0 6 7 3 8 0 8 3 1 2 3\n",
      " 7 9 5 0 6 1 3 3 9 8 5 4 6 1 0 6 5 8 4 3 9 4 3 3 9 2 7 8 1 2 6 4 0 9 8 3 6\n",
      " 2 5 2 4 2 5 2 2 0 4 2 7 3 1 6 4 9 6 7 0 0 8 1 9 1 7 3 0 5 7 7 7 3 2 9 9 4\n",
      " 0 0 9 9 5 1 4 3 7 8 1 2 3 2 8 9 2 5 1 1 8 2 4 0 9 4 6 9 0 3 3 7 0 5 6 9 6\n",
      " 0 8 2 6 4 8 3 5 6 2 5 5 1 6 7 1 5 7 8 4 4 0 4 8 2 5 5 0 6 2 7 7 9 1 0 4 0\n",
      " 7 8 1 5 1 2 6 7 6 1 1 7 5 7 8 7 6 2 2 5 6 5 7 7 5 7 9 2 9 1 7 7 3 1 9 7 9\n",
      " 8 0 0 6 2 7 8 5 1 3 1 8 8 5 9 0 8 3 9 2 2 1 7 2 6 4 1 6 9 7 7 7 3 9 3 3 7\n",
      " 3 8 4 9 4 6 6 3 7 9 5 8 3 0 2 1 1 6 2 0 3 4 3 5 0 9 6 6 0 9 2 3 1 1 1 5 6\n",
      " 4 6 6 5 5 3 1 1 3 7 0 7 3 6 2 7 3 9 9 1 7 2 9 3 2 3 3 3 3 8 6 2 2 9 5 0 7\n",
      " 6 2 7 7 2 2 2 2 3 7 4 0 0 2 4 7 5 8 0 0 9 7 1 9 1 8 2 6 4 6 7 0 0 3 6 4 9\n",
      " 3 6 0 1 1 0 2 7 4 7 5 2 8 7 0 9 9 3 0 2 0 0 9 5 1 3 3 3 6 3 4 7 8 0 4 3 9\n",
      " 8 9 9 8 6 3 9 2 0 1 0 1 0 6 8 9 1 8 6 5 4 0 4 5 2 1 1 8 1 5 7 1 7 0 1 8 9\n",
      " 5 1 1 9 0 5 9 7 1 8 0 7 9 6 1 7 7 6 7 5 0 9 4 1 2 7 2 4 3 9 3 4 3 9 7 6 6\n",
      " 0 5 2 8 6 2 8 5 1 3 2 1 7 2 6 1 0 1 8 8 1 6 1 0 2 8 4 1 0 6 7 5 9 8 8 8 2\n",
      " 3 9 6 7 0 1 7 3 0 6 7 9 1 9 6 6 7 8 8 6 0 3 8 3 5 0 8 2 3 1 6 6 8 5 4 4 7\n",
      " 1 6 8 6 3 0 9 7 7 6 3 2 9 4 2 5 8 8 2 8 7 7 1 7 9 4 3 8 7 7 8 3 2 2 8 7 4\n",
      " 7 0 7 7 7 8 0 2 5 7 3 9 7 3 0 0 2 2 9 2 8 6 2 0 8 7 6 0 6 9 8 7 8 3 1 6 1\n",
      " 3 0 1 4 8 4 4 5 0 7 2 1 7 6 8 1 8 2 5 4 7 0 4 9 9 1 9 0 1 0 1 2 7 6 8 0 0\n",
      " 5 5 4 1 3 5 3 8 8 2 3 4 8 0 3 9 1 2 3 9 2 7 6 2 1 1 5 6 7 4 7 2 5 6 9 4 9\n",
      " 1 0 1 7 4 4 2 0 8 8 8 1 2 8 4 6 0 1 9 9 7 0 8 2 3 2 3 0 4 9 9 0 4 5 4 2 5\n",
      " 4 0 8 7 9 9 8 8 5 9 4 7 1 6 0 9 1 5 7 2 0 9 2 6 4 8 4 3 6 8 4 8 1 0 6 9 7\n",
      " 5 3 2 6 5 3 8 8 5 2 1 5 4 2 8 0 1 5 8 8 0 8 8 2 3 8 7 2 2 4 5 8 2 8 7 4 1\n",
      " 8 7 2 9 2 2 5 1 5 6 7 6 1 2 6 8 7 0 7 9 2 3 2 9 4 0 7 3 3 6 3 8 8 2 4 0 3\n",
      " 1 7 9 6 8 7 7 4 1 4 0 9 1 9 2 5 3 8 4 3 0 0 3 0 2 5 8 7 4 8 2 1 1 3 8 0 0\n",
      " 6 5 7 8 5 8 2 7 4 1 9 7 1 8 8 1 7 3 7 8 6 1 3 3 1 1 5 4 7 9 5 9 9 0 7 6 2\n",
      " 0 4 8 7 1 6 3 4 7 8 6 7 6 8 1 3 2 9 6 0 1 9 7 9 3 3 6 3 0 5 3 1 4 5 4 2 7\n",
      " 7 1 2 0 5 6 9 8 6 8 4 7 5 8 8 1 9 2 1 1 5 6 6 1 9 2 0 3 8 4 4 3 1 3 4 4 7\n",
      " 8] [5 3 0 9 1 5 1 6 9 7 6 5 7 8 4 7 2 2 3 8 3 7 0 9 2 4 0 6 7 3 8 0 8 3 1 2 3\n",
      " 7 9 5 0 6 1 3 3 9 8 5 4 6 1 0 6 5 8 4 3 9 4 3 3 5 8 7 3 1 2 6 4 0 7 3 3 6\n",
      " 2 5 3 4 2 5 2 3 0 4 3 7 3 1 6 6 9 6 7 0 0 0 1 9 1 7 3 0 5 7 7 7 3 2 7 7 4\n",
      " 0 0 9 9 5 1 4 3 7 8 1 2 5 2 8 4 2 5 1 1 3 2 4 0 9 9 2 9 0 3 3 9 0 5 6 4 6\n",
      " 0 8 2 6 4 5 3 5 6 0 5 5 1 6 7 1 5 7 8 4 4 0 2 8 2 5 3 0 6 2 7 7 9 1 0 4 0\n",
      " 7 8 1 5 1 2 6 7 6 1 1 7 5 7 8 7 6 2 2 5 6 5 7 7 5 7 4 2 1 1 7 7 3 1 9 7 9\n",
      " 2 0 0 6 2 7 8 5 8 3 1 8 8 5 9 0 3 3 9 2 3 1 9 2 6 4 5 6 3 7 7 7 3 9 3 3 7\n",
      " 3 9 4 9 4 6 6 3 1 9 5 9 3 0 2 1 3 0 2 0 3 4 3 5 0 9 6 6 0 9 2 3 1 1 1 5 6\n",
      " 9 6 6 5 8 3 1 1 3 7 0 9 3 6 2 7 3 9 9 1 7 2 9 3 2 3 5 3 3 8 6 6 2 9 5 0 7\n",
      " 6 2 7 7 3 7 2 2 3 7 4 5 0 2 4 7 5 8 0 0 9 7 1 9 1 3 2 6 2 6 7 0 0 3 6 4 9\n",
      " 3 6 0 1 1 0 2 7 4 7 5 2 8 7 0 9 4 3 0 2 0 0 9 5 1 3 9 3 6 8 4 7 8 0 4 8 9\n",
      " 8 9 9 8 6 3 9 2 6 8 0 1 0 6 3 9 1 8 6 5 4 0 4 5 2 1 1 8 1 5 7 1 7 0 1 8 9\n",
      " 5 1 1 9 0 5 7 7 1 8 7 7 9 6 1 7 7 6 7 5 0 9 4 5 2 7 8 4 7 7 3 4 3 9 7 6 6\n",
      " 0 5 2 8 6 2 8 5 1 3 2 3 7 2 6 1 0 1 8 8 1 4 1 0 2 8 4 1 0 6 7 5 4 8 8 8 2\n",
      " 3 4 6 7 0 1 7 3 0 6 7 3 9 9 6 6 7 8 8 6 0 3 8 3 5 0 8 2 3 1 6 6 8 5 4 4 7\n",
      " 1 6 8 8 3 0 9 7 7 6 3 2 9 4 7 5 8 3 2 8 7 7 1 7 9 4 3 8 7 7 8 3 2 3 2 7 4\n",
      " 7 0 7 7 7 3 0 2 5 7 2 4 7 3 0 0 2 2 9 2 8 0 2 0 8 7 6 0 6 7 8 7 8 3 1 6 1\n",
      " 3 0 1 4 8 8 4 5 0 7 2 1 7 6 8 1 8 2 0 9 7 0 4 9 9 1 9 3 1 5 2 6 5 6 8 0 0\n",
      " 5 5 4 1 8 6 3 3 8 2 3 4 2 0 5 4 8 3 3 9 2 7 6 2 2 1 5 6 7 8 7 8 5 6 9 4 2\n",
      " 1 0 1 7 4 4 2 0 8 8 8 1 2 8 4 6 0 1 8 4 3 0 8 8 3 2 3 0 4 9 9 0 4 1 4 2 5\n",
      " 9 0 9 7 9 4 8 5 5 9 4 8 1 6 0 4 1 5 7 2 0 9 2 6 4 8 4 3 6 5 5 1 1 0 6 9 7\n",
      " 5 3 2 6 5 3 8 8 5 2 1 5 4 2 8 0 1 5 3 8 0 8 8 2 8 8 7 1 2 4 5 3 2 8 9 7 1\n",
      " 8 7 2 7 2 2 5 1 5 6 7 6 1 2 6 8 9 0 7 4 2 3 2 9 4 0 7 5 3 6 3 9 8 2 4 0 3\n",
      " 1 9 9 5 8 7 7 4 1 4 0 9 1 9 8 5 3 8 4 3 0 0 3 0 2 5 8 7 4 8 8 1 1 3 8 0 0\n",
      " 6 6 7 7 5 4 2 7 4 1 9 7 1 8 8 1 3 8 7 8 6 1 3 5 1 1 8 4 7 9 5 9 9 7 7 6 2\n",
      " 0 4 8 7 1 6 3 4 7 8 6 7 6 0 1 5 6 9 6 0 1 9 7 9 3 3 6 3 0 5 3 1 4 8 4 2 3\n",
      " 7 1 2 0 5 6 9 3 6 8 2 7 8 8 8 1 9 6 1 1 5 6 6 1 9 2 0 3 5 4 4 3 1 5 4 4 7\n",
      " 8]\n"
     ]
    },
    {
     "data": {
      "text/plain": [
       "0.853"
      ]
     },
     "execution_count": 8,
     "metadata": {},
     "output_type": "execute_result"
    }
   ],
   "source": [
    "test_predictions = make_predictions(X_test, W1, b1, W2, b2)\n",
    "get_accuracy(test_predictions, Y_test)"
   ]
  }
 ],
 "metadata": {
  "kaggle": {
   "accelerator": "none",
   "dataSources": [
    {
     "databundleVersionId": 861823,
     "sourceId": 3004,
     "sourceType": "competition"
    }
   ],
   "dockerImageVersionId": 30673,
   "isGpuEnabled": false,
   "isInternetEnabled": false,
   "language": "python",
   "sourceType": "notebook"
  },
  "kernelspec": {
   "display_name": "Python 3 (ipykernel)",
   "language": "python",
   "name": "python3"
  },
  "language_info": {
   "codemirror_mode": {
    "name": "ipython",
    "version": 3
   },
   "file_extension": ".py",
   "mimetype": "text/x-python",
   "name": "python",
   "nbconvert_exporter": "python",
   "pygments_lexer": "ipython3",
   "version": "3.11.7"
  }
 },
 "nbformat": 4,
 "nbformat_minor": 4
}
