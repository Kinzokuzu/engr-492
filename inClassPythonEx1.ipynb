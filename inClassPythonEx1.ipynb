{
 "cells": [
  {
   "cell_type": "markdown",
   "id": "573805c3-922f-4ebe-bff5-337201a4d80f",
   "metadata": {},
   "source": [
    "# This is the title of my script"
   ]
  },
  {
   "cell_type": "markdown",
   "id": "89c004ff-8ba5-472f-82a4-f0484e7fdb7a",
   "metadata": {},
   "source": [
    "Cervantes, 1/31/2024"
   ]
  },
  {
   "cell_type": "markdown",
   "id": "77ee6962-2005-4d81-88ed-dc31607e026d",
   "metadata": {},
   "source": [
    "This is an example of a simple python program\n",
    "\n"
   ]
  },
  {
   "cell_type": "code",
   "execution_count": 1,
   "id": "af225cae-281f-453c-a5f8-34e67c2755cd",
   "metadata": {},
   "outputs": [],
   "source": [
    "from random import random"
   ]
  },
  {
   "cell_type": "code",
   "execution_count": 4,
   "id": "084f3880-24bb-4db4-abb0-2145b4e3e7a3",
   "metadata": {},
   "outputs": [
    {
     "name": "stdin",
     "output_type": "stream",
     "text": [
      "number of darts:  10000\n"
     ]
    }
   ],
   "source": [
    "times = int(input(\"number of darts: \"))\n",
    "hits = 0\n",
    "for i in range(times):\n",
    "    x = random()\n",
    "    y = random()\n",
    "    if x*x + y*y <= 1:\n",
    "        hits +=1"
   ]
  },
  {
   "cell_type": "code",
   "execution_count": 5,
   "id": "d41179ef-b718-4563-b50c-9d35be8622fc",
   "metadata": {},
   "outputs": [
    {
     "name": "stdout",
     "output_type": "stream",
     "text": [
      "Pi: 3.1576\n",
      "Throws: 10000\n",
      "Hits: 7894\n"
     ]
    }
   ],
   "source": [
    "print(\"Pi:\", hits/times * 4)\n",
    "print(\"Throws:\", times)\n",
    "print(\"Hits:\", hits)"
   ]
  },
  {
   "cell_type": "code",
   "execution_count": 1,
   "id": "8dfeaae2-ee9f-4250-9785-9960d2b1d924",
   "metadata": {},
   "outputs": [],
   "source": [
    "import numpy as np\n",
    "import matplotlib.pyplot as plt\n",
    "import matplotlib.font_manager as fm"
   ]
  },
  {
   "cell_type": "code",
   "execution_count": null,
   "id": "0bce1a8a-76fe-49be-9318-949f63d415fd",
   "metadata": {},
   "outputs": [],
   "source": []
  }
 ],
 "metadata": {
  "kernelspec": {
   "display_name": "Python 3 (ipykernel)",
   "language": "python",
   "name": "python3"
  },
  "language_info": {
   "codemirror_mode": {
    "name": "ipython",
    "version": 3
   },
   "file_extension": ".py",
   "mimetype": "text/x-python",
   "name": "python",
   "nbconvert_exporter": "python",
   "pygments_lexer": "ipython3",
   "version": "3.11.7"
  }
 },
 "nbformat": 4,
 "nbformat_minor": 5
}
